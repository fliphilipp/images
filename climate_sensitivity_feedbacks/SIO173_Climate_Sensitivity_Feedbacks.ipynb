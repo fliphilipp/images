{
  "nbformat": 4,
  "nbformat_minor": 0,
  "metadata": {
    "colab": {
      "provenance": []
    },
    "kernelspec": {
      "name": "python3",
      "display_name": "Python 3"
    },
    "language_info": {
      "name": "python"
    }
  },
  "cells": [
    {
      "cell_type": "markdown",
      "source": [
        "<img src=\"https://github.com/fliphilipp/images/blob/main/climate_sensitivity_feedbacks/climate_sensitivity_intro_diagram.png?raw=true\" alt=\"banner\" width=\"40%\">\n",
        "\n",
        "\n",
        "# <font color='red'><b> Climate Sensitivity </b>\n",
        "General idea:\n",
        "> *How does the Earth's surface temperature $T_s$ change in response to a radiative forcing $\\Delta Q$ at the top of the atmosphere? $\\Rightarrow \\lambda_R = \\frac{\\Delta T_s}{\\Delta Q}$*\n",
        "\n",
        "Often asked more specifically:\n",
        "> *By how much does the Earth's temperature increase when the amount of $\\mathrm{CO}_2$ in the atmosphere doubles? (We denote this value by $\\Delta T_{2\\times\\mathrm{CO}_2}$.)*"
      ],
      "metadata": {
        "id": "F2OL79PRT1aq"
      }
    },
    {
      "cell_type": "markdown",
      "source": [
        "## <font color='red'><b> Review of the Global Energy Balance </b>\n",
        "\n",
        "## <font color='red'><b> No atmosphere: </b>\n",
        "\n",
        "\n",
        "<img src=\"https://github.com/fliphilipp/images/blob/main/climate_sensitivity_feedbacks/radiative_balance_earth_no_atmosphere.png?raw=true\" alt=\"banner\" width=\"80%\">\n",
        "\n",
        "where\n",
        "- $S = \\frac{L}{4\\pi r_E^2} \\approx 1360 \\mathrm{\\,W\\,m}^{-2}$ is the solar constant,\n",
        "- $\\sigma = 5.67 \\times 10^{-8}\\mathrm{\\,W\\,m}^{-2}\\mathrm{\\,K}^{-4}$ is the Stefan-Boltzmann constant,\n",
        "- $\\alpha \\approx 0.3$ is the Earth's albedo\n",
        "- $T_s$ is the surface temperature\n",
        "\n",
        "If we assume that Earth is in radiative balance ($Q_\\text{in} = Q_\\text{out}$), we have\n",
        "\n",
        "\\begin{align}\n",
        "  T_e = \\left(\\frac{S (1 - \\alpha)}{4\\sigma} \\right)^{1/4} \\approx -19 ^\\circ\\mathrm{C} \\approx -2 ^\\circ\\mathrm{F}.\n",
        "\\end{align}\n",
        "\n",
        "This is too cold to be the actual surface temperature!"
      ],
      "metadata": {
        "id": "32BJX3YnZgBw"
      }
    },
    {
      "cell_type": "code",
      "execution_count": 1,
      "metadata": {
        "colab": {
          "base_uri": "https://localhost:8080/",
          "height": 49
        },
        "id": "kHoGw1fgTvQp",
        "outputId": "f72c75c7-9af5-4987-f9b9-da7781c1c9e2"
      },
      "outputs": [
        {
          "output_type": "display_data",
          "data": {
            "text/plain": [
              "<IPython.core.display.Markdown object>"
            ],
            "text/markdown": "**The surface temperature is $-19 ^\\circ\\mathrm{C}$ / $255 \\mathrm{\\,K}$ / $-2 ^\\circ\\mathrm{F}$.**"
          },
          "metadata": {}
        }
      ],
      "source": [
        "# imports\n",
        "from IPython.display import display, Markdown\n",
        "import numpy as np\n",
        "\n",
        "# specify constants\n",
        "S = 1360.  # Solar constant, W / m^2\n",
        "sigma = 5.67e-8  # Stefan-Boltzmann constant W / (m^2 K^4)\n",
        "\n",
        "# temperature conversions\n",
        "def k2f(k):\n",
        "    return (k - 273.15) * 9/5 + 32\n",
        "def k2c(k):\n",
        "    return (k - 273.15)\n",
        "\n",
        "# function to calculate temperature\n",
        "def get_Te(alpha=0.3, S=S, sigma=sigma, verbose=False):\n",
        "  T = (S * (1 - alpha) / (4 * sigma)) ** (1 / 4)\n",
        "  if verbose:\n",
        "    display(Markdown(r'**The surface temperature is $%.0f ^\\circ\\mathrm{C}$ / $%.0f \\mathrm{\\,K}$ / $%.0f ^\\circ\\mathrm{F}$.**' % (k2c(T), T, k2f(T))))\n",
        "  return T\n",
        "\n",
        "T_e = get_Te(verbose=True);"
      ]
    },
    {
      "cell_type": "markdown",
      "source": [
        "## <font color='red'><b> A simple greenhouse model: </b>\n",
        "\n",
        "Add an atmosphere into the model that absorbs all outgoing longwave radiation and emits in all directions.\n",
        "\n",
        "<img src=\"https://github.com/fliphilipp/images/blob/main/climate_sensitivity_feedbacks/radiative_balance_earth_opaque_atmosphere.png?raw=true\" alt=\"banner\" width=\"50%\">\n",
        "\n",
        "Here we find (Marshall & Plumb, 2.3.1) that\n",
        "\\begin{align}\n",
        "    T_s = 2^{1/4} T_e \\approx 30^\\circ\\mathrm{C} \\approx 85^\\circ\\mathrm{F}.\n",
        "\\end{align}\n",
        "\n",
        "Now, this is too hot!\n",
        "\n"
      ],
      "metadata": {
        "id": "JJuvHAwwn1JF"
      }
    },
    {
      "cell_type": "code",
      "source": [
        "T_s = 2**(1/4) * T_e\n",
        "display(Markdown(r'**The surface temperature is $%.0f ^\\circ\\mathrm{C}$ / $%.0f \\mathrm{\\,K}$ / $%.0f ^\\circ\\mathrm{F}$.**' % (k2c(T_s), T_s, k2f(T_s))))"
      ],
      "metadata": {
        "colab": {
          "base_uri": "https://localhost:8080/",
          "height": 49
        },
        "id": "IL-sFhzlnD03",
        "outputId": "2820b277-8bff-4859-98a3-84bfc58606d7"
      },
      "execution_count": 2,
      "outputs": [
        {
          "output_type": "display_data",
          "data": {
            "text/plain": [
              "<IPython.core.display.Markdown object>"
            ],
            "text/markdown": "**The surface temperature is $30 ^\\circ\\mathrm{C}$ / $303 \\mathrm{\\,K}$ / $85 ^\\circ\\mathrm{F}$.**"
          },
          "metadata": {}
        }
      ]
    },
    {
      "cell_type": "markdown",
      "source": [
        "## <font color='red'><b> A \"leaky\" greenhouse: </b>\n",
        "\n",
        "Now, the atmosphere only absorbs a fraction $\\varepsilon$ of the outgoing longwave radiation. We call $\\varepsilon$ the **absorptivity** of the atmosphere.\n",
        "\n",
        "<img src=\"https://github.com/fliphilipp/images/blob/main/climate_sensitivity_feedbacks/radiative_balance_earth_leaky_greenhouse.png?raw=true\" alt=\"banner\" width=\"50%\">\n",
        "\n",
        "\n",
        "In this case we find (Marshall & Plumb, 2.3.2) that\n",
        "\\begin{align}\n",
        "    T_s = \\left( \\frac{2}{2-\\varepsilon} \\right)^{1/4} T_e.\n",
        "\\end{align}\n",
        "\n",
        "To tune this to the average surface temperature that we see on Earth, we can set $T_s^\\text{(earth)} = 288 \\mathrm{\\,K}$ and solve for\n",
        "\\begin{align}\n",
        "    \\varepsilon_0 = 2 \\left(1-\\left(\\frac{T_e}{T_s^\\text{(earth)}}\\right)^4\\right) \\approx 0.78.\n",
        "\\end{align}"
      ],
      "metadata": {
        "id": "NdvMoS-ztOOC"
      }
    },
    {
      "cell_type": "code",
      "source": [
        "T_s_earth = 288\n",
        "epsilon_tuned = 2 - 2 * (T_e / T_s_earth)**4\n",
        "\n",
        "def get_Ts_from_Te(T_e, epsilon=epsilon_tuned):\n",
        "    return (2 / (2 - epsilon)) ** (1 / 4) * T_e\n",
        "\n",
        "T_s = get_Ts_from_Te(T_e = get_Te(alpha=0.3), epsilon=epsilon_tuned)\n",
        "display(Markdown(r'**If we let $\\varepsilon=\\varepsilon_0\\approx%.5g$, the surface temperature is $%.1f ^\\circ\\mathrm{C}$ / $%.1f \\mathrm{\\,K}$ / $%.1f ^\\circ\\mathrm{F}$.**' % (epsilon_tuned, k2c(T_s), T_s, k2f(T_s))))"
      ],
      "metadata": {
        "colab": {
          "base_uri": "https://localhost:8080/",
          "height": 51
        },
        "id": "8Pkx8RnGrvWf",
        "outputId": "004476f1-aa7b-4e0d-edc7-f5f9cc6786b5"
      },
      "execution_count": 3,
      "outputs": [
        {
          "output_type": "display_data",
          "data": {
            "text/plain": [
              "<IPython.core.display.Markdown object>"
            ],
            "text/markdown": "**If we let $\\varepsilon=\\varepsilon_0\\approx0.77974$, the surface temperature is $14.9 ^\\circ\\mathrm{C}$ / $288.0 \\mathrm{\\,K}$ / $58.7 ^\\circ\\mathrm{F}$.**"
          },
          "metadata": {}
        }
      ]
    },
    {
      "cell_type": "markdown",
      "source": [
        "Now, if we increase $\\varepsilon$, we \"trap\" more radiation inside the atmosphere. This means the surface temperature will increase.\n",
        "\n",
        "### Relationship between absorptivity and $\\mathrm{CO}_2$ in the atmosphere.\n",
        "\n",
        "The additional amount of outgoing longwave radiation that is trapped inside the atmosphere if we increase $\\varepsilon$ from $\\varepsilon_0$ to $\\varepsilon_1$ is given by\n",
        "\\begin{align}\n",
        "    \\Delta Q = \\sigma T_s^\\text{earth} \\frac{\\varepsilon_{2\\times\\mathrm{CO}_2} - \\varepsilon_0}{2}.\n",
        "\\end{align}\n",
        "\n",
        "This is the change to the total radiative flux at the top of the atmosphere, which we refer to as \"radiative forcing\". To relate our atmospheric absorptivity parameter $\\varepsilon$ to a doubling in $\\mathrm{CO}_2$ we use the fact that the corresponding radiative forcing is\n",
        "\\begin{align}\n",
        "    \\Delta Q_{2\\times\\mathrm{CO}_2} \\approx 3.7 \\text{ to } 4 \\mathrm{\\,W\\,m}^2.\n",
        "\\end{align}\n",
        "Using this, we can calculate the change in atmospheric absorptivity that we need in our model to obtain a radiative forcing equal to $\\Delta Q_{2\\times\\mathrm{CO}_2}$:\n",
        "\\begin{align}\n",
        "    \\Delta \\varepsilon_{2\\times\\mathrm{CO}_2} =  \\varepsilon_{2\\times\\mathrm{CO}_2} - \\varepsilon_0 =\n",
        "    \\frac{2 \\Delta Q_{2\\times\\mathrm{CO}_2}}{\\sigma T_s^\\text{earth}} \\approx 0.02.\n",
        "\\end{align}"
      ],
      "metadata": {
        "id": "swEKbyH55Jve"
      }
    },
    {
      "cell_type": "code",
      "source": [
        "deltaR_2xCO2 = 3.9  # pick a value in the given range\n",
        "delta_epsilon_2xCO2 = 2 * deltaR_2xCO2 / (sigma * T_s_earth**4)\n",
        "epsilon_new = epsilon_tuned + delta_epsilon_2xCO2\n",
        "display(Markdown(r'**$\\Delta\\varepsilon_{2\\times\\mathrm{CO}_2}\\approx%.4g$, which gives an atmospheric absorptivity of $\\varepsilon_{2\\times\\mathrm{CO}_2}\\approx%.3g$ after doubling $\\mathrm{CO}_2$.**' % (delta_epsilon_2xCO2, epsilon_new)))"
      ],
      "metadata": {
        "colab": {
          "base_uri": "https://localhost:8080/",
          "height": 51
        },
        "id": "uij7A28XIwUW",
        "outputId": "22e8e78b-c597-4fae-e2b2-824833a93c36"
      },
      "execution_count": 4,
      "outputs": [
        {
          "output_type": "display_data",
          "data": {
            "text/plain": [
              "<IPython.core.display.Markdown object>"
            ],
            "text/markdown": "**$\\Delta\\varepsilon_{2\\times\\mathrm{CO}_2}\\approx0.02$, which gives an atmospheric absorptivity of $\\varepsilon_{2\\times\\mathrm{CO}_2}\\approx0.8$ after doubling $\\mathrm{CO}_2$.**"
          },
          "metadata": {}
        }
      ]
    },
    {
      "cell_type": "markdown",
      "source": [
        "### Now calculate the equilibrium climate sensitivity: Change in temperature from a doubling in atmospheric $\\mathrm{CO}_2$:"
      ],
      "metadata": {
        "id": "3UvAqs0vRXsB"
      }
    },
    {
      "cell_type": "code",
      "source": [
        "T_s_new = get_Ts_from_Te(T_e = get_Te(alpha=0.3), epsilon=epsilon_new)\n",
        "display(Markdown(r'**If we increase absorptivity to $\\varepsilon=%.3g$, the surface temperature is $%.1f ^\\circ\\mathrm{C}$ / $%.1f \\mathrm{\\,K}$ / $%.1f ^\\circ\\mathrm{F}$.**' % (epsilon_new, k2c(T_s_new), T_s_new, k2f(T_s_new))))\n",
        "display(Markdown(r'**$\\rightarrow$ The increase in absorptivity $\\varepsilon$ results in a temperature increase of $\\Delta T_{2\\times\\mathrm{CO}_2} = %.1f^\\circ\\mathrm{C}$.**' % (T_s_new - T_s)))"
      ],
      "metadata": {
        "colab": {
          "base_uri": "https://localhost:8080/",
          "height": 78
        },
        "id": "y768bOIN5fBs",
        "outputId": "feb2ab39-91fa-4009-d357-6afa93e75cfe"
      },
      "execution_count": 5,
      "outputs": [
        {
          "output_type": "display_data",
          "data": {
            "text/plain": [
              "<IPython.core.display.Markdown object>"
            ],
            "text/markdown": "**If we increase absorptivity to $\\varepsilon=0.8$, the surface temperature is $16.0 ^\\circ\\mathrm{C}$ / $289.2 \\mathrm{\\,K}$ / $60.9 ^\\circ\\mathrm{F}$.**"
          },
          "metadata": {}
        },
        {
          "output_type": "display_data",
          "data": {
            "text/plain": [
              "<IPython.core.display.Markdown object>"
            ],
            "text/markdown": "**$\\rightarrow$ The increase in absorptivity $\\varepsilon$ results in a temperature increase of $\\Delta T_{2\\times\\mathrm{CO}_2} = 1.2^\\circ\\mathrm{C}$.**"
          },
          "metadata": {}
        }
      ]
    },
    {
      "cell_type": "markdown",
      "source": [
        "### What have we done so far?\n",
        "<img src=\"https://github.com/fliphilipp/images/blob/main/climate_sensitivity_feedbacks/loops_reference.png?raw=true\" alt=\"banner\" width=\"30%\">&nbsp;&nbsp;&nbsp;&nbsp;&nbsp;&nbsp;&nbsp;&nbsp;\n",
        "<img src=\"https://github.com/fliphilipp/images/blob/main/climate_sensitivity_feedbacks/initial-warming.jpg?raw=true\" alt=\"banner\" width=\"30%\">\n"
      ],
      "metadata": {
        "id": "eeMDjkwlmaby"
      }
    },
    {
      "cell_type": "markdown",
      "source": [
        "## <font color='red'><b> What happens if albedo is dependent on temperature? </b>\n",
        "\n",
        "When the surface temperture increases due to an increased absorptivity (i.e. more $\\mathrm{CO}_2$ in the atmosphere), we expect more ice and snow to melt. This, in turn will mean that less sunlight is reflected away from the earth $\\Rightarrow$ the albedo of earth will decrease. The increased surface absorption of radiation means that temperature increases even. This causes more snow and ice to melt, and so on...\n",
        "\n",
        "Since the temperature change due to an initial forcing creates an additional forcing, we call this a **\"feedback loop\"**:\n",
        "\n",
        "<img src=\"https://github.com/fliphilipp/images/blob/main/climate_sensitivity_feedbacks/feedbacks-icealbedo.png?raw=true\" alt=\"banner\" width=\"40%\">\n",
        "\n",
        "Let's define this temperature-dependent albedo as:\n",
        "\n",
        "\\begin{align}\n",
        "\\alpha(T) = \\left\\{ \\begin{array}{ccc}\n",
        "\\alpha_i & \\mathrm{if}  & T \\le T_i \\\\\n",
        "\\alpha_o + (\\alpha_i-\\alpha_o) \\frac{(T-T_o)^2}{(T_i-T_o)^2} &  \\mathrm{if} & T_i < T < T_o \\\\\n",
        "\\alpha_o &  & \\mathrm{otherwise.}  \\end{array} \\right\\}\n",
        "\\end{align}\n",
        "\n",
        "where\n",
        "\n",
        "- $\\alpha_o = 0.25$ is the albedo of a warm, ice-free planet\n",
        "- $\\alpha_i = 0.95$ is the albedo of a very cold planet, completely covered in snow and ice\n",
        "- $T_o = 295 \\mathrm{\\,K}$ is the threshold temperature above which we assume the planet is ice-free\n",
        "- $T_i \\approx 268.8 \\mathrm{\\,K}$ is the threshold temperature below which we assume the planet is completely ice covered.\n",
        "\n",
        "*Note: these albedo values are totally not accurate and were chosen for illustration purposes only!*\n",
        "\n",
        "<img src=\"https://github.com/fliphilipp/images/blob/main/climate_sensitivity_feedbacks/earth_temperature_albedo.jpg?raw=true\" alt=\"banner\" width=\"70%\">\n",
        "\n"
      ],
      "metadata": {
        "id": "dlDo-DxxzaNt"
      }
    },
    {
      "cell_type": "code",
      "source": [
        "def albedo(T, alpha_o=0.25, alpha_i=0.95, To=295., Ti=268.8083981781207):\n",
        "    try:\n",
        "        T = np.array(T)\n",
        "        alb = alpha_o + (alpha_i-alpha_o)*(T-To)**2 / (Ti - To)**2\n",
        "        alb[T<Ti] = alpha_i\n",
        "        alb[T>To] = alpha_o\n",
        "        return alb\n",
        "    except:\n",
        "        alb = alpha_i if T<Ti else alpha_o + (alpha_i-alpha_o)*(T-To)**2 / (Ti - To)**2\n",
        "        if T>To: alb = alpha_o\n",
        "    return alb\n",
        "\n",
        "import matplotlib.pyplot as plt\n",
        "T_array = np.arange(260, 303.1, 0.1)\n",
        "fig, ax = plt.subplots(figsize=[8,3])\n",
        "ax.plot(T_array, albedo(T_array), 'k-', lw=2, label=r\"$\\alpha(T_s)$\")\n",
        "ax.plot([268.8083981781207]*2, [0,1], color='C0', label=r\"$T_i$\")\n",
        "ax.plot([295]*2, [0,1], color='C1', label=r\"$T_o$\")\n",
        "ax.plot([288]*2, [0,1], color='C2', ls='--', label=r\"$T_\\mathrm{current}$\")\n",
        "ax.set_title(\"a surface temperature-dependent planetary albedo\")\n",
        "ax.set_ylabel(r\"albedo $\\alpha$\")\n",
        "ax.set_xlabel(r\"Earth surface temperature $T_s$  $(\\mathrm{K})$\")\n",
        "ax.legend(loc=\"upper right\");"
      ],
      "metadata": {
        "colab": {
          "base_uri": "https://localhost:8080/",
          "height": 337
        },
        "id": "5sJVXUS5vJMy",
        "outputId": "108d6864-8e5a-4666-c1b8-fa1dd732cfd9"
      },
      "execution_count": 6,
      "outputs": [
        {
          "output_type": "display_data",
          "data": {
            "text/plain": [
              "<Figure size 800x300 with 1 Axes>"
            ],
            "image/png": "[encoded data removed]"
          },
          "metadata": {}
        }
      ]
    },
    {
      "cell_type": "markdown",
      "source": [
        "In our model, $T_s$ is calculated using the albedo, but the albedo is itself dependent on $T_s$:\n",
        "\\begin{align}\n",
        "    T_s &= \\left( \\frac{2}{2-\\varepsilon} \\right)^{1/4} T_e \\\\\n",
        "    &= \\left(\\frac{2 S (1 - \\alpha(T_s))}{(2-\\varepsilon)4\\sigma} \\right)^{1/4}.\n",
        "\\end{align}\n",
        "This means that we need to iteratively re-caclulate the surface temperature and albedo until the result converges."
      ],
      "metadata": {
        "id": "8Y0yYqtH4qnd"
      }
    },
    {
      "cell_type": "code",
      "source": [
        "S = 1360.  # Solar constant, W / m^2\n",
        "sigma = 5.67e-8  # Stefan-Boltzmann constant W / (m^2 K^4)\n",
        "# epsilon_tuned = 0.7797355959567022\n",
        "\n",
        "def get_Ts(alpha=0.3, epsilon=epsilon_tuned, S=S, sigma=sigma):\n",
        "    T_e = (S * (1 - alpha) / (4 * sigma)) ** (1 / 4)\n",
        "    return (2 / (2 - epsilon)) ** (1 / 4) * T_e\n",
        "\n",
        "def solve_for_T(T0=288, epsilon=epsilon_tuned, tol=1e-5, max_iter=1000):\n",
        "    T_old = T0\n",
        "    i = 0\n",
        "    diff = tol + 1\n",
        "    while (diff > tol) & (i < max_iter):\n",
        "        i += 1\n",
        "        T_new = get_Ts(alpha=albedo(T_old), epsilon=epsilon)\n",
        "        diff = np.abs(T_new - T_old)\n",
        "        T_old = T_new\n",
        "        if i == (max_iter):\n",
        "            print(\"Warning: solve_for_T computation did not converge to desired tolerance.\")\n",
        "            print(diff)\n",
        "    return T_new"
      ],
      "metadata": {
        "id": "q-pUSNLJTrFu"
      },
      "execution_count": 7,
      "outputs": []
    },
    {
      "cell_type": "markdown",
      "source": [
        "<font color='red'><b> Increase absorptivity to $\\varepsilon_{2\\times\\mathrm{CO}_2} \\approx 0.8$ while albedo  $\\alpha(T_s)$ changes based on surface temperature. How much does the surface temperature increase in equilibrium? </b>"
      ],
      "metadata": {
        "id": "be2Atcec-Z66"
      }
    },
    {
      "cell_type": "code",
      "source": [
        "T0fix = get_Ts()\n",
        "T1fix = get_Ts(epsilon=epsilon_new)\n",
        "T0var = solve_for_T()\n",
        "T1var = solve_for_T(epsilon=epsilon_new)\n",
        "dtfix = T1fix - T0fix\n",
        "dtvar = T1var - T0var\n",
        "\n",
        "display(Markdown(r\"\"\"\n",
        "<table style=\"border: 1px solid black; border-collapse:collapse;\">\n",
        " <tr><th colspan=\"2\">&nbsp;</th><th colspan=\"2\">albedo</th></tr>\n",
        " <tr><th colspan=\"2\">&nbsp;</th><th>$\\alpha=0.3$ (fixed)</th><th>$\\alpha(T_s)$ temperature-dependent</th></tr>\n",
        " <tr><th rowspan=\"2\">absorptivity</th><th>$\\varepsilon_0$ (current)</th><td>$T_0 = %.1f\\mathrm{\\,K}$</td><td>$T_0 = %.1f\\mathrm{\\,K}$</td></tr>\n",
        " <tr><th>$\\varepsilon_{2\\times\\mathrm{CO}_2}$ (double $\\mathrm{CO}_2$)</th><td>$T_{2\\times\\mathrm{CO}_2} = %.1f\\mathrm{\\,K}$</td><td>$T_{2\\times\\mathrm{CO}_2} = %.1f\\mathrm{\\,K}$</td></tr>\n",
        " <tr><th colspan=\"2\">climate sensitivity</th><td>$\\Delta T_{2\\times\\mathrm{CO}_2} = %.1f\\mathrm{\\,K}$</td><td><font color='red'><b>$\\Delta T_{2\\times\\mathrm{CO}_2} = %.1f\\mathrm{\\,K}$</b></font></td></tr>\n",
        "</table>\n",
        "\"\"\" % (T0fix, T0var, T1fix, T1var, dtfix, dtvar)\n",
        "))"
      ],
      "metadata": {
        "colab": {
          "base_uri": "https://localhost:8080/",
          "height": 191
        },
        "id": "kgUa1FXuXIYM",
        "outputId": "919cca71-3095-411a-80d6-32a14d8b5dd2"
      },
      "execution_count": 8,
      "outputs": [
        {
          "output_type": "display_data",
          "data": {
            "text/plain": [
              "<IPython.core.display.Markdown object>"
            ],
            "text/markdown": "\n<table style=\"border: 1px solid black; border-collapse:collapse;\">\n <tr><th colspan=\"2\">&nbsp;</th><th colspan=\"2\">albedo</th></tr>\n <tr><th colspan=\"2\">&nbsp;</th><th>$\\alpha=0.3$ (fixed)</th><th>$\\alpha(T_s)$ temperature-dependent</th></tr>\n <tr><th rowspan=\"2\">absorptivity</th><th>$\\varepsilon_0$ (current)</th><td>$T_0 = 288.0\\mathrm{\\,K}$</td><td>$T_0 = 288.0\\mathrm{\\,K}$</td></tr>\n <tr><th>$\\varepsilon_{2\\times\\mathrm{CO}_2}$ (double $\\mathrm{CO}_2$)</th><td>$T_{2\\times\\mathrm{CO}_2} = 289.2\\mathrm{\\,K}$</td><td>$T_{2\\times\\mathrm{CO}_2} = 294.2\\mathrm{\\,K}$</td></tr>\n <tr><th colspan=\"2\">climate sensitivity</th><td>$\\Delta T_{2\\times\\mathrm{CO}_2} = 1.2\\mathrm{\\,K}$</td><td><font color='red'><b>$\\Delta T_{2\\times\\mathrm{CO}_2} = 6.2\\mathrm{\\,K}$</b></font></td></tr>\n</table>\n"
          },
          "metadata": {}
        }
      ]
    },
    {
      "cell_type": "markdown",
      "source": [
        "Based on our (simplified) energy balance model, we have calculated the equilibrium climate sensitivity for our reference system, and for a system that includes an ice-albedo feedback. The ice-albedo feedback reinforces the initial forcing, and therefore acts to increase the climate sensitivity."
      ],
      "metadata": {
        "id": "2BiALqRLBsbj"
      }
    },
    {
      "cell_type": "markdown",
      "source": [
        "<table>\n",
        "<tr>\n",
        "<td><img src=\"https://github.com/fliphilipp/images/blob/main/climate_sensitivity_feedbacks/loops_reference.png?raw=true\" alt=\"banner\" height=\"200px\"></td>\n",
        "<td><img src=\"https://github.com/fliphilipp/images/blob/main/climate_sensitivity_feedbacks/loops_icealbedo_caption.png?raw=true\" alt=\"banner\" height=\"200px\"></td>\n",
        "</tr>\n",
        "<tr>\n",
        "<th><font size='4vw'><b>$\\Delta T_{2\\times\\mathrm{CO}_2} \\approx 1.2 \\mathrm{\\,K}$</th>\n",
        "<th><font size='4vw'><b>$\\Delta T_{2\\times\\mathrm{CO}_2} \\approx 6.2 \\mathrm{\\,K}$</th>\n",
        "</tr>\n",
        "</table>"
      ],
      "metadata": {
        "id": "rgg0DM63ul0-"
      }
    },
    {
      "cell_type": "markdown",
      "source": [
        "# <font color='red'><b> More feedbacks add up! </b>"
      ],
      "metadata": {
        "id": "FZuCiQgfypHg"
      }
    },
    {
      "cell_type": "markdown",
      "source": [
        "There are many ways in which the climate system responds to a forcing. All the different feedbacks within the sytem add up to affect the total climate sensitivity. Individual feedbacks can be <font color='red'>positive/destabilizing</font> or <font color='blue'>negative/stabilizing</font>.\n",
        "\n",
        "<img src=\"https://github.com/fliphilipp/images/blob/main/climate_sensitivity_feedbacks/feedbacks-stabilizing-destabilizing.png?raw=true\" alt=\"banner\" width=\"80%\">\n",
        "\n",
        "<img src=\"https://github.com/fliphilipp/images/blob/main/climate_sensitivity_feedbacks/feedbacks_overview.jpg?raw=true\" alt=\"banner\" width=\"80%\">\n",
        "\n"
      ],
      "metadata": {
        "id": "mAU1AAdi6IqO"
      }
    },
    {
      "cell_type": "markdown",
      "source": [
        "## <font color='red'><b> Water Vapor Feedback </b></font>\n",
        "\n",
        "The water vapor feedback is based on the <b>Greenhouse effect</b>: Water vapor very efficiently absorbs outgoing longwave radiation and reemits infrared radiation in all directions. Similarly to an increase of $\\mathrm{CO}_2$ in the atmosphere, this traps heat in the atmosphere and makes the Earth warmer. This is a <font color='red'>positive/destabilizing</font> feedback.\n",
        "\n",
        "<img src=\"https://github.com/fliphilipp/images/blob/main/climate_sensitivity_feedbacks/greenhouse-effect.png?raw=true\" height=250px> &nbsp;&nbsp;&nbsp;&nbsp;&nbsp;&nbsp;\n",
        "<img src=\"https://github.com/fliphilipp/images/blob/main/climate_sensitivity_feedbacks/feedbacks-watervapor.png?raw=true\" height=250px>\n",
        "\n",
        "\n",
        "**Forcing:** Increased $\\mathrm{CO}_2$ in the atmosphere (usually by humans)\n",
        "- *CAUSE:* $\\mathrm{CO}_2$ released into the atmosphere\n",
        "- *MECHANISM:* more $\\mathrm{CO}_2$ in the atmosphere enhances the greenhouse effect\n",
        "- *EFFECT:* a warmer atmosphere\n",
        "\n",
        "**Feedback:**  Increased water vapor in the atmosphere\n",
        "- *CAUSE:* a warmer atmosphere can hold more water vapor (Clausius-Clapeyron relation $e_s = Ae^{BT}$!)\n",
        "- *MECHANISM:* more water vapor in the atmosphere enhances the greenhouse effect\n",
        "- *EFFECT:* an even warmer atmosphere\n",
        "\n",
        "\n"
      ],
      "metadata": {
        "id": "23g7D4AV6XIw"
      }
    },
    {
      "cell_type": "markdown",
      "source": [
        "## <font color='red'><b> Lapse Rate Feedback </b></font>\n",
        "\n",
        "- emission of infrared radiation varies with temperature\n",
        "- longwave radiation escaping to space from the relatively cold upper atmosphere is less than that emitted toward the ground from the lower atmosphere\n",
        "- global warming will likely result in a decrease of the lapse rate, and will therefore usually be a <font color='blue'>negative/stabilizing</font> feedback\n",
        "\n",
        "\n",
        "<img src=\"https://github.com/fliphilipp/images/blob/main/climate_sensitivity_feedbacks/feedbacks-lapserate_negative.png?raw=true\" height=250px>\n",
        "\n",
        "*Caveat*: This does often not apply the polar regions, where there are strong temperature inversions. The feedback <font color='red'>can be positive in polar regions</font> and contribute to *polar amplification*. More on that in the next lecture...\n",
        "\n"
      ],
      "metadata": {
        "id": "TPw2dxqYDSKg"
      }
    },
    {
      "cell_type": "markdown",
      "source": [
        "## <font color='red'><b> Cloud Feedbacks </b></font>\n",
        "\n",
        "Clouds can affect the radiative balance in multiple ways:\n",
        "- they can reflect incoming sunlight (increase albedo) $\\rightarrow$ cooling effect\n",
        "- they can absorb/re-emit longwave radiation (enhanced greenhouse) $\\rightarrow$ warming effect\n",
        "\n",
        "<img src=\"https://github.com/fliphilipp/images/blob/main/climate_sensitivity_feedbacks/clouds_positive.png?raw=true\" height=250px> &nbsp;&nbsp;&nbsp;&nbsp;&nbsp;&nbsp;\n",
        "<img src=\"https://github.com/fliphilipp/images/blob/main/climate_sensitivity_feedbacks/clouds_negative.png?raw=true\" height=250px>\n",
        "\n",
        "**Cloud thickness:**\n",
        "Thick clouds have a greater effect on the albedo  \n",
        "Cloud height\n",
        "\n",
        "**Cloud height:**\n",
        "Higher clouds have a greater effect on the outgoing radiation at the top of the atmosphere\n",
        "<img src=\"https://github.com/fliphilipp/images/blob/main/climate_sensitivity_feedbacks/clouds_high_low.jpg?raw=true\" height=250px>\n",
        "\n",
        "\n",
        "$\\rightarrow$ high, thin clouds have a warming effect<br>\n",
        "$\\rightarrow$ low, thick clouds have a cooling effect\n",
        "\n",
        "- How clouds change due to changes in the climate can lead to <font color='red'>positive</font> or <font color='blue'>negative</font> feedbacks\n",
        "- The effect of cloud feedbacks is still *highly uncertain*\n"
      ],
      "metadata": {
        "id": "dlXwdkxmHDiX"
      }
    },
    {
      "cell_type": "markdown",
      "source": [
        "## <font color='red'><b> IPCC best estimates </b></font>\n",
        "\n",
        "### Climate feedback estimates\n",
        "<img src=\"https://github.com/fliphilipp/images/blob/main/climate_sensitivity_feedbacks/ipcc-feedbacks.png?raw=true\" width=80%>\n",
        "\n",
        "### Equilibrium climate sensitivity estimates\n",
        "<img src=\"https://github.com/fliphilipp/images/blob/main/climate_sensitivity_feedbacks/ipcc-sensitivity.png?raw=true\" width=80%>\n",
        "\n",
        "\n",
        "\n"
      ],
      "metadata": {
        "id": "QIZBPwpoL5Cv"
      }
    },
    {
      "cell_type": "markdown",
      "source": [
        "# <font color='red'><b> Main Takeaways </b></font>\n",
        "- How much the Earth's temperature changes in response to\n",
        "forcing is known as the climate sensitivity.\n",
        "-We can calculate the climate sensitivity for a reference\n",
        "system as the change in surface temperature per change in\n",
        "forcing\n",
        "- Feedbacks respond to changes in temperature and alter the\n",
        "total forcing\n",
        "- A <font color='red'>positive</font>/<font color='blue'>negative</font> feedback <font color='red'>amplifies</font>/<font color='blue'>de-amplifies</font> the\n",
        "forcing perturbation, <font color='red'>increasing</font>/<font color='blue'>decreasing</font> the Earth's\n",
        "response\n",
        "- The major feedbacks in the Earth's climate system are:\n",
        "  - surface albedo feedback\n",
        "  - water vapor feedback\n",
        "  - lapse rate feedback\n",
        "  - cloud feedbacks"
      ],
      "metadata": {
        "id": "R5qS6o-D08cR"
      }
    },
    {
      "cell_type": "code",
      "source": [],
      "metadata": {
        "id": "6C_JrhsSCuGv"
      },
      "execution_count": 8,
      "outputs": []
    }
  ]
}